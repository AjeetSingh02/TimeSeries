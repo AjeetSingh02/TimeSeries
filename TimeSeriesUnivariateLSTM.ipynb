{
  "nbformat": 4,
  "nbformat_minor": 0,
  "metadata": {
    "colab": {
      "name": "TimeSeriesUnivariateLSTM.ipynb",
      "provenance": [],
      "collapsed_sections": [
        "8rVYwyXtTswD",
        "VElQ2To9X4Jv",
        "B9K5lYtBTsh6",
        "l64g4tJhTsS5"
      ],
      "authorship_tag": "ABX9TyO11ANhXAED+ltjRVgs7ave",
      "include_colab_link": true
    },
    "kernelspec": {
      "name": "python3",
      "display_name": "Python 3"
    },
    "accelerator": "TPU"
  },
  "cells": [
    {
      "cell_type": "markdown",
      "metadata": {
        "id": "view-in-github",
        "colab_type": "text"
      },
      "source": [
        "<a href=\"https://colab.research.google.com/github/AjeetSingh02/TimeSeries/blob/master/TimeSeriesUnivariateLSTM.ipynb\" target=\"_parent\"><img src=\"https://colab.research.google.com/assets/colab-badge.svg\" alt=\"Open In Colab\"/></a>"
      ]
    },
    {
      "cell_type": "markdown",
      "metadata": {
        "id": "hbvo0p4wRw2W",
        "colab_type": "text"
      },
      "source": [
        "https://machinelearningmastery.com/time-series-forecasting-long-short-term-memory-network-python/"
      ]
    },
    {
      "cell_type": "markdown",
      "metadata": {
        "id": "ojd2naJzTsJR",
        "colab_type": "text"
      },
      "source": [
        "Here we will see how to develop an LSTM forecast model for a one-step univariate time series forecasting problem."
      ]
    },
    {
      "cell_type": "markdown",
      "metadata": {
        "id": "j87_OCeuTsVU",
        "colab_type": "text"
      },
      "source": [
        "**Tutorial Overview**\n",
        "\n",
        "This tutorial is broken down into 9 parts; they are:\n",
        "\n",
        "1. Shampoo Sales Dataset\n",
        "2. Test Setup\n",
        "3. Persistence Model Forecast\n",
        "4. LSTM Data Preparation\n",
        "5. LSTM Model Development\n",
        "6. LSTM Forecast\n",
        "7. Complete LSTM Example\n",
        "8. Develop a Robust Result\n",
        "9. Tutorial Extensions"
      ]
    },
    {
      "cell_type": "markdown",
      "metadata": {
        "id": "sUlDt2FGTsxa",
        "colab_type": "text"
      },
      "source": [
        "Requirements:\n",
        "1. Python 2/3\n",
        "2. SciPy. \n",
        "3. Keras (2.0 or higher) with either the TensorFlow or Theano backend.\n",
        "4. scikit-learn\n",
        "5. Pandas\n",
        "6. NumPy\n",
        "7. Matplotlib"
      ]
    },
    {
      "cell_type": "markdown",
      "metadata": {
        "id": "8rVYwyXtTswD",
        "colab_type": "text"
      },
      "source": [
        "# Shampoo Sales Dataset\n",
        "\n",
        "This dataset describes the monthly number of sales of shampoo over a 3-year period.\n",
        "\n",
        "The units are a sales count and there are 36 observations. The original dataset is credited to Makridakis, Wheelwright, and Hyndman (1998).\n",
        "\n",
        "[dataset](https://raw.githubusercontent.com/jbrownlee/Datasets/master/shampoo.csv)"
      ]
    },
    {
      "cell_type": "code",
      "metadata": {
        "id": "vFL4REJuXBhu",
        "colab_type": "code",
        "outputId": "fac20c61-62eb-4ae4-90f4-98c0ba0b7aca",
        "colab": {
          "base_uri": "https://localhost:8080/",
          "height": 204
        }
      },
      "source": [
        "# Downloading the dataset in notebook\n",
        "!wget https://raw.githubusercontent.com/jbrownlee/Datasets/master/shampoo.csv"
      ],
      "execution_count": 0,
      "outputs": [
        {
          "output_type": "stream",
          "text": [
            "--2020-01-28 04:57:44--  https://raw.githubusercontent.com/jbrownlee/Datasets/master/shampoo.csv\n",
            "Resolving raw.githubusercontent.com (raw.githubusercontent.com)... 151.101.0.133, 151.101.64.133, 151.101.128.133, ...\n",
            "Connecting to raw.githubusercontent.com (raw.githubusercontent.com)|151.101.0.133|:443... connected.\n",
            "HTTP request sent, awaiting response... 200 OK\n",
            "Length: 519 [text/plain]\n",
            "Saving to: ‘shampoo.csv’\n",
            "\n",
            "\rshampoo.csv           0%[                    ]       0  --.-KB/s               \rshampoo.csv         100%[===================>]     519  --.-KB/s    in 0s      \n",
            "\n",
            "2020-01-28 04:57:45 (57.9 MB/s) - ‘shampoo.csv’ saved [519/519]\n",
            "\n"
          ],
          "name": "stdout"
        }
      ]
    },
    {
      "cell_type": "code",
      "metadata": {
        "id": "ys5a-y3VTssS",
        "colab_type": "code",
        "colab": {}
      },
      "source": [
        "from math import sqrt\n",
        "import pandas as pd\n",
        "from matplotlib import pyplot as plt\n",
        "from sklearn.metrics import mean_squared_error"
      ],
      "execution_count": 0,
      "outputs": []
    },
    {
      "cell_type": "code",
      "metadata": {
        "id": "TZG-ls9EX1Q_",
        "colab_type": "code",
        "colab": {}
      },
      "source": [
        "from pylab import rcParams\n",
        "rcParams['figure.figsize'] = 15, 6"
      ],
      "execution_count": 0,
      "outputs": []
    },
    {
      "cell_type": "code",
      "metadata": {
        "id": "NQVvNtDZTsqZ",
        "colab_type": "code",
        "colab": {}
      },
      "source": [
        "def parser(x):\n",
        "\treturn pd.datetime.strptime('190'+x, '%Y-%m')\n",
        " \n",
        "series = pd.read_csv('shampoo.csv', header=0, parse_dates=[0], index_col=0, squeeze=True, date_parser=parser)"
      ],
      "execution_count": 0,
      "outputs": []
    },
    {
      "cell_type": "code",
      "metadata": {
        "id": "W17u39VDXuS0",
        "colab_type": "code",
        "outputId": "73be9e93-f155-46d4-97a4-a76a63cbd578",
        "colab": {
          "base_uri": "https://localhost:8080/",
          "height": 136
        }
      },
      "source": [
        "series.head()"
      ],
      "execution_count": 0,
      "outputs": [
        {
          "output_type": "execute_result",
          "data": {
            "text/plain": [
              "Month\n",
              "1901-01-01    266.0\n",
              "1901-02-01    145.9\n",
              "1901-03-01    183.1\n",
              "1901-04-01    119.3\n",
              "1901-05-01    180.3\n",
              "Name: Sales, dtype: float64"
            ]
          },
          "metadata": {
            "tags": []
          },
          "execution_count": 7
        }
      ]
    },
    {
      "cell_type": "code",
      "metadata": {
        "id": "wve-sNcpTsoz",
        "colab_type": "code",
        "outputId": "0fed0793-34a0-4c42-b55e-720f06aa439d",
        "colab": {
          "base_uri": "https://localhost:8080/",
          "height": 400
        }
      },
      "source": [
        "series.plot()\n",
        "plt.show()"
      ],
      "execution_count": 0,
      "outputs": [
        {
          "output_type": "display_data",
          "data": {
            "image/png": "[encoded data removed]",
            "text/plain": [
              "<Figure size 1080x432 with 1 Axes>"
            ]
          },
          "metadata": {
            "tags": []
          }
        }
      ]
    },
    {
      "cell_type": "markdown",
      "metadata": {
        "id": "VElQ2To9X4Jv",
        "colab_type": "text"
      },
      "source": [
        "# Test Setup\n",
        "\n",
        "We will split the Shampoo Sales dataset into two parts: a training and a test set.\n",
        "\n",
        "The first two years of data will be taken for the training dataset and the remaining one year of data will be used for the test set."
      ]
    },
    {
      "cell_type": "code",
      "metadata": {
        "id": "mkVfQY9OY7GK",
        "colab_type": "code",
        "colab": {}
      },
      "source": [
        "# split data into train and test\n",
        "X = series.values\n",
        "train, test = X[0:-12], X[-12:]"
      ],
      "execution_count": 0,
      "outputs": []
    },
    {
      "cell_type": "markdown",
      "metadata": {
        "id": "oRYW5OsMY9o5",
        "colab_type": "text"
      },
      "source": [
        "Models will be developed using the training dataset and will make predictions on the test dataset.\n",
        "\n",
        "**A rolling forecast scenario will be used, also called walk-forward model validation.**\n",
        "\n",
        "**Each time step of the test dataset will be walked one at a time. A model will be used to make a forecast for the time step, then the actual expected value from the test set will be taken and made available to the model for the forecast on the next time step.**"
      ]
    },
    {
      "cell_type": "code",
      "metadata": {
        "id": "ogdxA7NzTsnJ",
        "colab_type": "code",
        "colab": {}
      },
      "source": [
        "# Example\n",
        "# walk-forward validation\n",
        "history = [x for x in train]\n",
        "predictions = list()\n",
        "for i in range(len(test)):\n",
        "\t# make prediction...\n",
        "    pass"
      ],
      "execution_count": 0,
      "outputs": []
    },
    {
      "cell_type": "markdown",
      "metadata": {
        "id": "nGyyUG_kZPGA",
        "colab_type": "text"
      },
      "source": [
        "**This mimics a real-world scenario where new Shampoo Sales observations would be available each month and used in the forecasting of the following month.**\n",
        "\n",
        "Finally, all forecasts on the test dataset will be collected and an error score calculated to summarize the skill of the model. The root mean squared error (RMSE) will be used as it punishes large errors and results in a score that is in the same units as the forecast data, namely monthly shampoo sales."
      ]
    },
    {
      "cell_type": "markdown",
      "metadata": {
        "id": "B9K5lYtBTsh6",
        "colab_type": "text"
      },
      "source": [
        "#Persistence Model Forecast\n",
        "A good baseline forecast for a time series with a linear increasing trend is a persistence forecast.\n",
        "\n",
        "The persistence forecast is where the observation from the prior time step (t-1) is used to predict the observation at the current time step (t).\n",
        "\n",
        "We can implement this by taking the last observation from the training data and history accumulated by walk-forward validation and using that to predict the current time step."
      ]
    },
    {
      "cell_type": "markdown",
      "metadata": {
        "id": "DhGFXfT-Tsen",
        "colab_type": "text"
      },
      "source": [
        "We will accumulate all predictions in an array so that they can be directly compared to the test dataset."
      ]
    },
    {
      "cell_type": "code",
      "metadata": {
        "id": "e6CxnR3JTsc1",
        "colab_type": "code",
        "colab": {}
      },
      "source": [
        "# walk-forward validation\n",
        "history = [x for x in train]\n",
        "predictions = list()\n",
        "for i in range(len(test)):\n",
        "\t# make prediction on last element of history\n",
        "\tpredictions.append(history[-1])\n",
        "\t# add one element from test into history\n",
        "\thistory.append(test[i])"
      ],
      "execution_count": 0,
      "outputs": []
    },
    {
      "cell_type": "code",
      "metadata": {
        "id": "-X8gbB6ZalDF",
        "colab_type": "code",
        "outputId": "004acf6f-5f81-407f-87ba-bcf8b855b9ea",
        "colab": {
          "base_uri": "https://localhost:8080/",
          "height": 34
        }
      },
      "source": [
        "# report performance\n",
        "rmse = sqrt(mean_squared_error(test, predictions))\n",
        "print('RMSE: %.3f' % rmse)"
      ],
      "execution_count": 0,
      "outputs": [
        {
          "output_type": "stream",
          "text": [
            "RMSE: 136.761\n"
          ],
          "name": "stdout"
        }
      ]
    },
    {
      "cell_type": "code",
      "metadata": {
        "id": "vZfHTShhanID",
        "colab_type": "code",
        "outputId": "4517b7bd-c3f0-4740-91d4-71eceabd984b",
        "colab": {
          "base_uri": "https://localhost:8080/",
          "height": 378
        }
      },
      "source": [
        "# line plot of observed vs predicted\n",
        "plt.plot(test)\n",
        "plt.plot(predictions)\n",
        "plt.show()"
      ],
      "execution_count": 0,
      "outputs": [
        {
          "output_type": "display_data",
          "data": {
            "image/png": "[encoded data removed]",
            "text/plain": [
              "<Figure size 1080x432 with 1 Axes>"
            ]
          },
          "metadata": {
            "tags": []
          }
        }
      ]
    },
    {
      "cell_type": "markdown",
      "metadata": {
        "id": "mxrf9W9CbU6Z",
        "colab_type": "text"
      },
      "source": [
        "This result is so poor because we have not trained any model. This is \n",
        "just for demonstration. Like how we are going to update our history\n",
        "and make new predictions.\n",
        "\n",
        "This is like at each step the ith value is used to predict (i+1)th value\n",
        "and then the (i+1)th value is used to predict (i+2)th value.\n",
        "and so on."
      ]
    },
    {
      "cell_type": "markdown",
      "metadata": {
        "id": "QeZXBuZITsav",
        "colab_type": "text"
      },
      "source": [
        "Now that we have a baseline of performance on the dataset, we can get started developing an LSTM model for the data."
      ]
    },
    {
      "cell_type": "markdown",
      "metadata": {
        "id": "l64g4tJhTsS5",
        "colab_type": "text"
      },
      "source": [
        "#LSTM Data Preparation\n",
        "Before we can fit an LSTM model to the dataset, we must transform the data.\n",
        "\n",
        "This section is broken down into three steps:\n",
        "\n",
        "1. Transform the time series into a supervised learning problem\n",
        "2. Transform the time series data so that it is stationary.\n",
        "3. Transform the observations to have a specific scale."
      ]
    },
    {
      "cell_type": "markdown",
      "metadata": {
        "id": "DUDOaFXnckwJ",
        "colab_type": "text"
      },
      "source": [
        "**1. Transform Time Series to Supervised Learning**\n",
        "\n",
        "The LSTM model in Keras assumes that your data is divided into input (X) and output (y) components.\n",
        "\n",
        "For a time series problem, we can achieve this by using the observation from the last time step (t-1) as the input and the observation at the current time step (t) as the output.\n",
        "\n",
        "We can achieve this using the shift() function in Pandas that will push all values in a series down by a specified number places. We require a shift of 1 place, which will become the input variables. The time series as it stands will be the output variables.\n",
        "\n",
        "We can then concatenate these two series together to create a DataFrame ready for supervised learning. The pushed-down series will have a new position at the top with no value. A NaN (not a number) value will be used in this position. We will replace these NaN values with 0 values, which the LSTM model will have to learn as “the start of the series” or “I have no data here,” as a month with zero sales on this dataset has not been observed.\n",
        "\n",
        "The code below defines a helper function to do this called timeseries_to_supervised(). It takes a NumPy array of the raw time series data and a lag or number of shifted series to create and use as inputs."
      ]
    },
    {
      "cell_type": "code",
      "metadata": {
        "id": "eMUh_KhacktC",
        "colab_type": "code",
        "colab": {}
      },
      "source": [
        "# frame a sequence as a supervised learning problem\n",
        "# data -> Numpy array\n",
        "\n",
        "def timeseries_to_supervised(data, lag=1):\n",
        "    df = pd.DataFrame(data) #create a dataset from the numpy array\n",
        "    \n",
        "    # will make column(s) with shift one more than previous column(if any)\n",
        "    columns = [df.shift(i) for i in range(1, lag+1)] \n",
        "    \n",
        "    columns.append(df) # Append the original series into columns\n",
        "    df = pd.concat(columns, axis=1) # Make a new dataset out of all the columns\n",
        "    df.fillna(0, inplace=True) # Replace all NaNs with 0\n",
        "    return df"
      ],
      "execution_count": 0,
      "outputs": []
    },
    {
      "cell_type": "code",
      "metadata": {
        "id": "NdsSXQbsiAiZ",
        "colab_type": "code",
        "outputId": "05499877-efe5-4ad7-e195-f7ce757f879c",
        "colab": {
          "base_uri": "https://localhost:8080/",
          "height": 204
        }
      },
      "source": [
        "# Example to demonstrate above function\n",
        "dd = timeseries_to_supervised(train, lag=3)\n",
        "dd.head()"
      ],
      "execution_count": 0,
      "outputs": [
        {
          "output_type": "execute_result",
          "data": {
            "text/html": [
              "<div>\n",
              "<style scoped>\n",
              "    .dataframe tbody tr th:only-of-type {\n",
              "        vertical-align: middle;\n",
              "    }\n",
              "\n",
              "    .dataframe tbody tr th {\n",
              "        vertical-align: top;\n",
              "    }\n",
              "\n",
              "    .dataframe thead th {\n",
              "        text-align: right;\n",
              "    }\n",
              "</style>\n",
              "<table border=\"1\" class=\"dataframe\">\n",
              "  <thead>\n",
              "    <tr style=\"text-align: right;\">\n",
              "      <th></th>\n",
              "      <th>0</th>\n",
              "      <th>0</th>\n",
              "      <th>0</th>\n",
              "      <th>0</th>\n",
              "    </tr>\n",
              "  </thead>\n",
              "  <tbody>\n",
              "    <tr>\n",
              "      <th>0</th>\n",
              "      <td>0.0</td>\n",
              "      <td>0.0</td>\n",
              "      <td>0.0</td>\n",
              "      <td>266.0</td>\n",
              "    </tr>\n",
              "    <tr>\n",
              "      <th>1</th>\n",
              "      <td>266.0</td>\n",
              "      <td>0.0</td>\n",
              "      <td>0.0</td>\n",
              "      <td>145.9</td>\n",
              "    </tr>\n",
              "    <tr>\n",
              "      <th>2</th>\n",
              "      <td>145.9</td>\n",
              "      <td>266.0</td>\n",
              "      <td>0.0</td>\n",
              "      <td>183.1</td>\n",
              "    </tr>\n",
              "    <tr>\n",
              "      <th>3</th>\n",
              "      <td>183.1</td>\n",
              "      <td>145.9</td>\n",
              "      <td>266.0</td>\n",
              "      <td>119.3</td>\n",
              "    </tr>\n",
              "    <tr>\n",
              "      <th>4</th>\n",
              "      <td>119.3</td>\n",
              "      <td>183.1</td>\n",
              "      <td>145.9</td>\n",
              "      <td>180.3</td>\n",
              "    </tr>\n",
              "  </tbody>\n",
              "</table>\n",
              "</div>"
            ],
            "text/plain": [
              "       0      0      0      0\n",
              "0    0.0    0.0    0.0  266.0\n",
              "1  266.0    0.0    0.0  145.9\n",
              "2  145.9  266.0    0.0  183.1\n",
              "3  183.1  145.9  266.0  119.3\n",
              "4  119.3  183.1  145.9  180.3"
            ]
          },
          "metadata": {
            "tags": []
          },
          "execution_count": 21
        }
      ]
    },
    {
      "cell_type": "code",
      "metadata": {
        "colab_type": "code",
        "outputId": "a53487b4-49cf-4d2a-a15a-6456a6076fa2",
        "id": "cifeWWZ1h9GI",
        "colab": {
          "base_uri": "https://localhost:8080/",
          "height": 204
        }
      },
      "source": [
        "# Applying on our shampoo dataset (whole dataset)\n",
        "supervised = timeseries_to_supervised(X, 1)\n",
        "supervised.head()"
      ],
      "execution_count": 0,
      "outputs": [
        {
          "output_type": "execute_result",
          "data": {
            "text/html": [
              "<div>\n",
              "<style scoped>\n",
              "    .dataframe tbody tr th:only-of-type {\n",
              "        vertical-align: middle;\n",
              "    }\n",
              "\n",
              "    .dataframe tbody tr th {\n",
              "        vertical-align: top;\n",
              "    }\n",
              "\n",
              "    .dataframe thead th {\n",
              "        text-align: right;\n",
              "    }\n",
              "</style>\n",
              "<table border=\"1\" class=\"dataframe\">\n",
              "  <thead>\n",
              "    <tr style=\"text-align: right;\">\n",
              "      <th></th>\n",
              "      <th>0</th>\n",
              "      <th>0</th>\n",
              "    </tr>\n",
              "  </thead>\n",
              "  <tbody>\n",
              "    <tr>\n",
              "      <th>0</th>\n",
              "      <td>0.0</td>\n",
              "      <td>266.0</td>\n",
              "    </tr>\n",
              "    <tr>\n",
              "      <th>1</th>\n",
              "      <td>266.0</td>\n",
              "      <td>145.9</td>\n",
              "    </tr>\n",
              "    <tr>\n",
              "      <th>2</th>\n",
              "      <td>145.9</td>\n",
              "      <td>183.1</td>\n",
              "    </tr>\n",
              "    <tr>\n",
              "      <th>3</th>\n",
              "      <td>183.1</td>\n",
              "      <td>119.3</td>\n",
              "    </tr>\n",
              "    <tr>\n",
              "      <th>4</th>\n",
              "      <td>119.3</td>\n",
              "      <td>180.3</td>\n",
              "    </tr>\n",
              "  </tbody>\n",
              "</table>\n",
              "</div>"
            ],
            "text/plain": [
              "       0      0\n",
              "0    0.0  266.0\n",
              "1  266.0  145.9\n",
              "2  145.9  183.1\n",
              "3  183.1  119.3\n",
              "4  119.3  180.3"
            ]
          },
          "metadata": {
            "tags": []
          },
          "execution_count": 22
        }
      ]
    },
    {
      "cell_type": "markdown",
      "metadata": {
        "id": "GIUZxrlDiRgZ",
        "colab_type": "text"
      },
      "source": [
        "**2. Transform Time Series to Stationary**\n",
        "The Shampoo Sales dataset is not stationary.\n",
        "\n",
        "This means that there is a structure in the data that is dependent on the time. Specifically, there is an increasing trend in the data.\n",
        "\n",
        "Stationary data is easier to model and will very likely result in more skillful forecasts.\n",
        "\n",
        "The trend can be removed from the observations, then added back to forecasts later to return the prediction to the original scale and calculate a comparable error score.\n",
        "\n",
        "A standard way to remove a trend is by differencing the data. That is the observation from the previous time step (t-1) is subtracted from the current observation (t). This removes the trend and we are left with a difference series, or the changes to the observations from one time step to the next.\n",
        "\n",
        "We can achieve this automatically using the diff() function in pandas. Alternatively, we can get finer grained control and write our own function to do this, which is preferred for its flexibility in this case.\n",
        "\n",
        "Below is a function called difference() that calculates a differenced series. Note that the first observation in the series is skipped as there is no prior observation with which to calculate a differenced value."
      ]
    },
    {
      "cell_type": "code",
      "metadata": {
        "id": "keOw0GD5iRdw",
        "colab_type": "code",
        "colab": {}
      },
      "source": [
        "# create a differenced series\n",
        "def difference(dataset, interval=1):\n",
        "\tdiff = list()\n",
        "    # Start from i==interval so as to skip interval terms \n",
        "    # as they will not be having any past info\n",
        "    # Then minus the (i-1)th term from ith term\n",
        "\tfor i in range(interval, len(dataset)):\n",
        "\t\tvalue = dataset[i] - dataset[i - interval]\n",
        "\t\tdiff.append(value)\n",
        "\treturn pd.Series(diff)"
      ],
      "execution_count": 0,
      "outputs": []
    },
    {
      "cell_type": "markdown",
      "metadata": {
        "id": "Liyqm0tTkGWs",
        "colab_type": "text"
      },
      "source": [
        "We also need to invert this process in order to take forecasts made on the differenced series back into their original scale.\n",
        "\n",
        "The function below, called inverse_difference(), inverts this operation."
      ]
    },
    {
      "cell_type": "code",
      "metadata": {
        "id": "lYXYrNGBkIVK",
        "colab_type": "code",
        "colab": {}
      },
      "source": [
        "# invert differenced value\n",
        "def inverse_difference(history, yhat, interval=1):\n",
        "\treturn yhat + history[-interval]"
      ],
      "execution_count": 0,
      "outputs": []
    },
    {
      "cell_type": "code",
      "metadata": {
        "id": "PJvgYYqfi6jG",
        "colab_type": "code",
        "outputId": "2578e507-4612-468f-a54b-2601491ba33b",
        "colab": {
          "base_uri": "https://localhost:8080/",
          "height": 391
        }
      },
      "source": [
        "# transform to be stationary\n",
        "differenced = difference(series, 1)\n",
        "differenced.plot()"
      ],
      "execution_count": 0,
      "outputs": [
        {
          "output_type": "execute_result",
          "data": {
            "text/plain": [
              "<matplotlib.axes._subplots.AxesSubplot at 0x7ff15d466630>"
            ]
          },
          "metadata": {
            "tags": []
          },
          "execution_count": 25
        },
        {
          "output_type": "display_data",
          "data": {
            "image/png": "[encoded data removed]",
            "text/plain": [
              "<Figure size 1080x432 with 1 Axes>"
            ]
          },
          "metadata": {
            "tags": []
          }
        }
      ]
    },
    {
      "cell_type": "markdown",
      "metadata": {
        "id": "BkkO1eiEiRbX",
        "colab_type": "text"
      },
      "source": [
        "We can see that the trend has been removed"
      ]
    },
    {
      "cell_type": "code",
      "metadata": {
        "id": "hCzWcb1_iRYO",
        "colab_type": "code",
        "colab": {}
      },
      "source": [
        "# invert transform\n",
        "inverted = list()\n",
        "for i in range(len(differenced)):\n",
        "\tvalue = inverse_difference(series, differenced[i], len(series)-i)\n",
        "\tinverted.append(value)\n",
        "inverted = pd.Series(inverted)"
      ],
      "execution_count": 0,
      "outputs": []
    },
    {
      "cell_type": "code",
      "metadata": {
        "id": "6ES1qYE1k5os",
        "colab_type": "code",
        "outputId": "8e059f5e-49a4-407a-aeb1-0d69177730e8",
        "colab": {
          "base_uri": "https://localhost:8080/",
          "height": 340
        }
      },
      "source": [
        "print(series.head())\n",
        "print(differenced.head())\n",
        "print(inverted.head())"
      ],
      "execution_count": 0,
      "outputs": [
        {
          "output_type": "stream",
          "text": [
            "Month\n",
            "1901-01-01    266.0\n",
            "1901-02-01    145.9\n",
            "1901-03-01    183.1\n",
            "1901-04-01    119.3\n",
            "1901-05-01    180.3\n",
            "Name: Sales, dtype: float64\n",
            "0   -120.1\n",
            "1     37.2\n",
            "2    -63.8\n",
            "3     61.0\n",
            "4    -11.8\n",
            "dtype: float64\n",
            "0    145.9\n",
            "1    183.1\n",
            "2    119.3\n",
            "3    180.3\n",
            "4    168.5\n",
            "dtype: float64\n"
          ],
          "name": "stdout"
        }
      ]
    },
    {
      "cell_type": "code",
      "metadata": {
        "id": "jG_m6l-qOg6s",
        "colab_type": "code",
        "outputId": "96518689-a81a-4e92-dabe-d30d3d0e8201",
        "colab": {
          "base_uri": "https://localhost:8080/",
          "height": 34
        }
      },
      "source": [
        ""
      ],
      "execution_count": 0,
      "outputs": [
        {
          "output_type": "execute_result",
          "data": {
            "text/plain": [
              "38"
            ]
          },
          "metadata": {
            "tags": []
          },
          "execution_count": 92
        }
      ]
    },
    {
      "cell_type": "markdown",
      "metadata": {
        "id": "hgqlNnarkoG1",
        "colab_type": "text"
      },
      "source": [
        "Look at the above output to understand the operation.\n",
        "Note that 1st value was removed as it doesn't have anything before it."
      ]
    },
    {
      "cell_type": "markdown",
      "metadata": {
        "id": "nfSGECGZlgiP",
        "colab_type": "text"
      },
      "source": [
        "**3. Transform Time Series to Scale**\n",
        "\n",
        "Like other neural networks, LSTMs expect data to be within the scale of the activation function used by the network.\n",
        "\n",
        "The default activation function for LSTMs is the hyperbolic tangent (tanh), which outputs values between -1 and 1. This is the preferred range for the time series data.\n",
        "\n",
        "To make the experiment fair, the scaling coefficients (min and max) values must be calculated on the training dataset and applied to scale the test dataset and any forecasts. This is to avoid contaminating the experiment with knowledge from the test dataset, which might give the model a small edge.\n",
        "\n",
        "We can transform the dataset to the range [-1, 1] using the MinMaxScaler class. Like other scikit-learn transform classes, it requires data provided in a matrix format with rows and columns. Therefore, we must reshape our NumPy arrays before transforming."
      ]
    },
    {
      "cell_type": "code",
      "metadata": {
        "id": "QGmXoQKulgpS",
        "colab_type": "code",
        "colab": {}
      },
      "source": [
        "from sklearn.preprocessing import MinMaxScaler\n",
        "# transform scale\n",
        "X = series.values\n",
        "X = X.reshape(len(X), 1)\n",
        "scaler = MinMaxScaler(feature_range=(-1, 1))\n",
        "scaler = scaler.fit(X)\n",
        "scaled_X = scaler.transform(X)\n",
        "scaled_series = pd.Series(scaled_X[:, 0])"
      ],
      "execution_count": 0,
      "outputs": []
    },
    {
      "cell_type": "markdown",
      "metadata": {
        "id": "GFz2vVg0lgbn",
        "colab_type": "text"
      },
      "source": [
        "Again, we must invert the scale on forecasts to return the values back to the original scale so that the results can be interpreted and a comparable error score can be calculated."
      ]
    },
    {
      "cell_type": "code",
      "metadata": {
        "id": "Bbw8xVW9mfku",
        "colab_type": "code",
        "colab": {}
      },
      "source": [
        "# invert transform\n",
        "inverted_X = scaler.inverse_transform(scaled_X)\n",
        "inverted_series = pd.Series(inverted_X[:, 0])"
      ],
      "execution_count": 0,
      "outputs": []
    },
    {
      "cell_type": "code",
      "metadata": {
        "id": "HGUDdcKfml7_",
        "colab_type": "code",
        "outputId": "4bf6889c-92a7-4b21-e9f9-4883985d2f5f",
        "colab": {
          "base_uri": "https://localhost:8080/",
          "height": 340
        }
      },
      "source": [
        "print(series.head())\n",
        "print(scaled_series.head())\n",
        "print(inverted_series.head())"
      ],
      "execution_count": 0,
      "outputs": [
        {
          "output_type": "stream",
          "text": [
            "Month\n",
            "1901-01-01    266.0\n",
            "1901-02-01    145.9\n",
            "1901-03-01    183.1\n",
            "1901-04-01    119.3\n",
            "1901-05-01    180.3\n",
            "Name: Sales, dtype: float64\n",
            "0   -0.478585\n",
            "1   -0.905456\n",
            "2   -0.773236\n",
            "3   -1.000000\n",
            "4   -0.783188\n",
            "dtype: float64\n",
            "0    266.0\n",
            "1    145.9\n",
            "2    183.1\n",
            "3    119.3\n",
            "4    180.3\n",
            "dtype: float64\n"
          ],
          "name": "stdout"
        }
      ]
    },
    {
      "cell_type": "markdown",
      "metadata": {
        "id": "T97FfhONoAp_",
        "colab_type": "text"
      },
      "source": [
        "The above output shows the state of the scaling"
      ]
    },
    {
      "cell_type": "markdown",
      "metadata": {
        "id": "6MXuhkj_mfiS",
        "colab_type": "text"
      },
      "source": [
        "# LSTM Model Development\n",
        "\n",
        "The Long Short-Term Memory network (LSTM) is a type of Recurrent Neural Network (RNN).\n",
        "\n",
        "A benefit of this type of network is that it can learn and remember over long sequences and does not rely on a pre-specified window lagged observation as input."
      ]
    },
    {
      "cell_type": "markdown",
      "metadata": {
        "id": "A2R_tbuomffn",
        "colab_type": "text"
      },
      "source": [
        "In Keras, this is referred to as stateful, and involves setting the “stateful” argument to “True” when defining an LSTM layer.\n",
        "\n",
        "By default, an LSTM layer in Keras maintains state between data within one batch. A batch of data is a fixed-sized number of rows from the training dataset that defines how many patterns to process before updating the weights of the network. State in the LSTM layer between batches is cleared by default, therefore we must make the LSTM stateful. This gives us fine-grained control over when state of the LSTM layer is cleared, by calling the reset_states() function."
      ]
    },
    {
      "cell_type": "markdown",
      "metadata": {
        "id": "ybdNzCLXmfcB",
        "colab_type": "text"
      },
      "source": [
        "The LSTM layer expects input to be in a matrix with the dimensions: **[samples, time steps, features]**.\n",
        "\n",
        "Samples: These are independent observations from the domain, typically rows of data.\n",
        "\n",
        "Time steps: These are separate time steps of a given variable for a given observation.\n",
        "\n",
        "Features: These are separate measures observed at the time of observation."
      ]
    },
    {
      "cell_type": "markdown",
      "metadata": {
        "id": "DwJLSrDOmfYn",
        "colab_type": "text"
      },
      "source": [
        "We have some flexibility in how the Shampoo Sales dataset is framed for the network. We will keep it simple and frame the problem as each time step in the original sequence is one separate sample, with one timestep and one feature.\n",
        "\n",
        "Given that the training dataset is defined as X inputs and y outputs, it must be reshaped into the Samples/TimeSteps/Features format.\n",
        "\n",
        "We can use pandas reshape function for this."
      ]
    },
    {
      "cell_type": "code",
      "metadata": {
        "id": "HEcF2Shjubqr",
        "colab_type": "code",
        "colab": {}
      },
      "source": [
        "# Dont run. Its an example to explain steps\n",
        "X, y = train[:, 0:-1], train[:, -1]\n",
        "X = X.reshape(X.shape[0], 1, X.shape[1])"
      ],
      "execution_count": 0,
      "outputs": []
    },
    {
      "cell_type": "markdown",
      "metadata": {
        "id": "xg0DO3RtqlOj",
        "colab_type": "text"
      },
      "source": [
        "The shape of the input data must be specified in the LSTM layer using the “batch_input_shape” argument as a tuple that specifies the expected number of observations to read each batch, the number of time steps, and the number of features.\n",
        "\n",
        "The batch size is often much smaller than the total number of samples. It, along with the number of epochs, defines how quickly the network learns the data (how often the weights are updated).\n",
        "\n",
        "The final import parameter in defining the LSTM layer is the number of neurons, also called the number of memory units or blocks. This is a reasonably simple problem and a number between 1 and 5 should be sufficient.\n",
        "\n",
        "The line below creates a single LSTM hidden layer that also specifies the expectations of the input layer via the “batch_input_shape” argument.\n"
      ]
    },
    {
      "cell_type": "code",
      "metadata": {
        "id": "M5hh-2__qlFQ",
        "colab_type": "code",
        "colab": {}
      },
      "source": [
        "# Dont run. Its an example to explain steps\n",
        "layer = LSTM(neurons, batch_input_shape=(batch_size, X.shape[1], X.shape[2]), stateful=True)"
      ],
      "execution_count": 0,
      "outputs": []
    },
    {
      "cell_type": "markdown",
      "metadata": {
        "id": "kMcfux4iqlCh",
        "colab_type": "text"
      },
      "source": [
        "The network requires a single neuron in the output layer with a linear activation to predict the number of shampoo sales at the next time step.\n",
        "\n",
        "Once the network is specified, it must be compiled into an efficient symbolic representation using a backend mathematical library, such as TensorFlow or Theano.\n",
        "\n",
        "In compiling the network, we must specify a loss function and optimization algorithm. We will use “mean_squared_error” as the loss function as it closely matches RMSE that we will are interested in, and the efficient ADAM optimization algorithm.\n",
        "\n",
        "Using the Sequential Keras API to define the network, the below snippet creates and compiles the network."
      ]
    },
    {
      "cell_type": "code",
      "metadata": {
        "id": "-XoWNw7aqk-m",
        "colab_type": "code",
        "colab": {}
      },
      "source": [
        "# Dont run. Its an example to explain steps\n",
        "\n",
        "model = Sequential()\n",
        "#Adding the layer of previous state\n",
        "model.add(LSTM(neurons, batch_input_shape=(batch_size, X.shape[1], X.shape[2]), stateful=True))\n",
        "model.add(Dense(1))\n",
        "model.compile(loss='mean_squared_error', optimizer='adam')"
      ],
      "execution_count": 0,
      "outputs": []
    },
    {
      "cell_type": "markdown",
      "metadata": {
        "id": "vFY24DGouwyJ",
        "colab_type": "text"
      },
      "source": [
        "Once compiled, it can be fit to the training data. Because the network is stateful, we must control when the internal state is reset. Therefore, we must manually manage the training process one epoch at a time across the desired number of epochs.\n",
        "\n",
        "By default, the samples within an epoch are shuffled prior to being exposed to the network. Again, this is undesirable for the LSTM because we want the network to build up state as it learns across the sequence of observations. We can disable the shuffling of samples by setting “shuffle” to “False“.\n",
        "\n",
        "Also by default, the network reports a lot of debug information about the learning progress and skill of the model at the end of each epoch. We can disable this by setting the “verbose” argument to the level of “0“.\n",
        "\n",
        "We can then reset the internal state at the end of the training epoch, ready for the next training iteration.\n",
        "\n",
        "Below is a loop that manually fits the network to the training data."
      ]
    },
    {
      "cell_type": "code",
      "metadata": {
        "id": "evMZXzUjvGQU",
        "colab_type": "code",
        "colab": {}
      },
      "source": [
        "# Dont run. Its an example to explain steps\n",
        "for i in range(nb_epoch):\n",
        "\tmodel.fit(X, y, epochs=1, batch_size=batch_size, verbose=0, shuffle=False)\n",
        "\tmodel.reset_states()"
      ],
      "execution_count": 0,
      "outputs": []
    },
    {
      "cell_type": "markdown",
      "metadata": {
        "id": "k0oUBf9dvUct",
        "colab_type": "text"
      },
      "source": [
        "Putting this all together, we can define a function called fit_lstm() that trains and returns an LSTM model. As arguments, it takes the training dataset in a supervised learning format, a batch size, a number of epochs, and a number of neurons."
      ]
    },
    {
      "cell_type": "code",
      "metadata": {
        "id": "Hy1__vQ6vW8t",
        "colab_type": "code",
        "colab": {}
      },
      "source": [
        "# Dont run. Its an example to explain steps\n",
        "# This function will do all of the above steps \n",
        "# described in LSTM Model Development\n",
        "def fit_lstm(train, batch_size, nb_epoch, neurons):\n",
        "\tX, y = train[:, 0:-1], train[:, -1]\n",
        "\tX = X.reshape(X.shape[0], 1, X.shape[1])\n",
        "\tmodel = Sequential()\n",
        "\tmodel.add(LSTM(neurons, batch_input_shape=(batch_size, X.shape[1], X.shape[2]), stateful=True))\n",
        "\tmodel.add(Dense(1))\n",
        "\tmodel.compile(loss='mean_squared_error', optimizer='adam')\n",
        "\tfor i in range(nb_epoch):\n",
        "\t\tmodel.fit(X, y, epochs=1, batch_size=batch_size, verbose=0, shuffle=False)\n",
        "\t\tmodel.reset_states()\n",
        "\treturn model"
      ],
      "execution_count": 0,
      "outputs": []
    },
    {
      "cell_type": "markdown",
      "metadata": {
        "id": "JlJl3gE5vW6K",
        "colab_type": "text"
      },
      "source": [
        "The batch_size must be set to 1. This is because it must be a factor of the size of the training and test datasets.\n",
        "\n",
        "The predict() function on the model is also constrained by the batch size; there it must be set to 1 because we are interested in making one-step forecasts on the test data.\n",
        "\n",
        "We will not tune the network parameters in this tutorial; instead we will use the following configuration, found with a little trial and error:\n",
        "\n",
        "      Batch Size: 1\n",
        "      Epochs: 3000\n",
        "      Neurons: 4\n",
        "\n",
        "As an extension to this tutorial, you might like to explore different model parameters and see if you can improve performance.\n",
        "\n",
        "Consider trying 1500 epochs and 1 neuron, the performance may be better!"
      ]
    },
    {
      "cell_type": "markdown",
      "metadata": {
        "id": "jE_UL3kZvW3p",
        "colab_type": "text"
      },
      "source": [
        "# LSTM Forecast\n",
        "\n",
        "Once the LSTM model is fit to the training data, it can be used to make forecasts.\n",
        "\n",
        "Again, we have some flexibility. We can decide to fit the model once on all of the training data, then predict each new time step one at a time from the test data (we’ll call this the fixed approach), or we can re-fit the model or update the model each time step of the test data as new observations from the test data are made available (we’ll call this the dynamic approach)."
      ]
    },
    {
      "cell_type": "markdown",
      "metadata": {
        "id": "LeJUDB9MvW1G",
        "colab_type": "text"
      },
      "source": [
        "In this tutorial, we will go with the fixed approach for its simplicity, although, we would expect the dynamic approach to result in better model skill.\n",
        "\n",
        "To make a forecast, we can call the predict() function on the model. This requires a 3D NumPy array input as an argument. In this case, it will be an array of one value, the observation at the previous time step.\n",
        "\n",
        "The predict() function returns an array of predictions, one for each input row provided. Because we are providing a single input, the output will be a 2D NumPy array with one value.\n",
        "\n",
        "We can capture this behavior in a function named forecast() listed below. Given a fit model, a batch-size used when fitting the model (e.g. 1), and a row from the test data, the function will separate out the input data from the test row, reshape it, and return the prediction as a single floating point value."
      ]
    },
    {
      "cell_type": "code",
      "metadata": {
        "id": "aNXN3qDA4pb3",
        "colab_type": "code",
        "colab": {}
      },
      "source": [
        "def forecast(model, batch_size, row):\n",
        "\tX = row[0:-1]\n",
        "\tX = X.reshape(1, 1, len(X))\n",
        "\tyhat = model.predict(X, batch_size=batch_size)\n",
        "\treturn yhat[0,0]"
      ],
      "execution_count": 0,
      "outputs": []
    },
    {
      "cell_type": "markdown",
      "metadata": {
        "id": "qkuo-70F4ph5",
        "colab_type": "text"
      },
      "source": [
        "During training, the internal state is reset after each epoch. While forecasting, we will not want to reset the internal state between forecasts. In fact, we would like the model to build up state as we forecast each time step in the test dataset.\n",
        "\n",
        "This raises the question as to what would be a good initial state for the network prior to forecasting the test dataset.\n",
        "\n",
        "In this tutorial, we will seed the state by making a prediction on all samples in the training dataset. In theory, the internal state should be set up ready to forecast the next time step.\n",
        "\n",
        "We now have all of the pieces to fit an LSTM Network model for the Shampoo Sales dataset and evaluate its performance.\n",
        "\n",
        "In the next section, we will put all of these pieces together."
      ]
    },
    {
      "cell_type": "markdown",
      "metadata": {
        "id": "Q5qRQXj04pY7",
        "colab_type": "text"
      },
      "source": [
        "#Complete LSTM Example\n",
        "In this section, we will fit an LSTM to the Shampoo Sales dataset and evaluate the model."
      ]
    },
    {
      "cell_type": "markdown",
      "metadata": {
        "id": "2_Sv5REp6j58",
        "colab_type": "text"
      },
      "source": [
        "This will involve drawing together all of the elements from the prior sections. There are a lot of them, so let’s review:\n",
        "\n",
        "1. Load the dataset from CSV file.\n",
        "2. Transform the dataset to make it suitable for the LSTM model, including:\n",
        "\n",
        "       Transforming the data to a supervised learning problem.\n",
        "\n",
        "       Transforming the data to be stationary.\n",
        "\n",
        "       Transforming the data so that it has the scale -1 to 1.\n",
        "\n",
        "3. Fitting a stateful LSTM network model to the training data.\n",
        "4. Evaluating the static LSTM model on the test data.\n",
        "5. Report the performance of the forecasts.\n",
        "\n",
        "Some things to note about the example:\n",
        "\n",
        "The scaling and inverse scaling behaviors have been moved to the functions scale() and invert_scale() for brevity.\n",
        "\n",
        "The test data is scaled using the fit of the scaler on the training data, as is required to ensure the min/max values of the test data do not influence the model.\n",
        "\n",
        "The order of data transforms was adjusted for convenience to first make the data stationary, then a supervised learning problem, then scaled.\n",
        "\n",
        "Differencing was performed on the entire dataset prior to splitting into train and test sets for convenience. We could just as easily collect observations during the walk-forward validation and difference them as we go. I decided against it for readability.\n",
        "\n",
        "The complete example is listed below."
      ]
    },
    {
      "cell_type": "code",
      "metadata": {
        "id": "Na9AJW_h6ldO",
        "colab_type": "code",
        "colab": {}
      },
      "source": [
        "import numpy as np\n",
        "import pandas as pd\n",
        "from math import sqrt\n",
        "from matplotlib import pyplot as plt\n",
        "\n",
        "from keras.layers import LSTM\n",
        "from keras.layers import Dense\n",
        "from keras.models import Sequential\n",
        "from sklearn.preprocessing import MinMaxScaler\n",
        "from sklearn.metrics import mean_squared_error\n",
        "\n",
        "# date-time parsing function for loading the dataset\n",
        "def parser(x):\n",
        "\treturn pd.datetime.strptime('190'+x, '%Y-%m')\n",
        "\n",
        "# frame a sequence as a supervised learning problem\n",
        "def timeseries_to_supervised(data, lag=1):\n",
        "\tdf = pd.DataFrame(data)\n",
        "\tcolumns = [df.shift(i) for i in range(1, lag+1)]\n",
        "\tcolumns.append(df)\n",
        "\tdf = pd.concat(columns, axis=1)\n",
        "\tdf.fillna(0, inplace=True)\n",
        "\treturn df\n",
        "\n",
        "# create a differenced series\n",
        "def difference(dataset, interval=1):\n",
        "\tdiff = list()\n",
        "\tfor i in range(interval, len(dataset)):\n",
        "\t\tvalue = dataset[i] - dataset[i - interval]\n",
        "\t\tdiff.append(value)\n",
        "\treturn pd.Series(diff)\n",
        "\n",
        "# invert differenced value\n",
        "def inverse_difference(history, yhat, interval=1):\n",
        "\treturn yhat + history[-interval]\n",
        "\n",
        "# scale train and test data to [-1, 1]\n",
        "def scale(train, test):\n",
        "\t# fit scaler\n",
        "\tscaler = MinMaxScaler(feature_range=(-1, 1))\n",
        "\tscaler = scaler.fit(train)\n",
        "\t# transform train\n",
        "\ttrain = train.reshape(train.shape[0], train.shape[1])\n",
        "\ttrain_scaled = scaler.transform(train)\n",
        "\t# transform test\n",
        "\ttest = test.reshape(test.shape[0], test.shape[1])\n",
        "\ttest_scaled = scaler.transform(test)\n",
        "\treturn scaler, train_scaled, test_scaled\n",
        "\n",
        "# inverse scaling for a forecasted value\n",
        "def invert_scale(scaler, X, value):\n",
        "\tnew_row = [x for x in X] + [value]\n",
        "\tarray = np.array(new_row)\n",
        "\tarray = array.reshape(1, len(array))\n",
        "\tinverted = scaler.inverse_transform(array)\n",
        "\treturn inverted[0, -1]\n",
        "\n",
        "# fit an LSTM network to training data\n",
        "def fit_lstm(train, batch_size, nb_epoch, neurons):\n",
        "\tX, y = train[:, 0:-1], train[:, -1]\n",
        "\tX = X.reshape(X.shape[0], 1, X.shape[1])\n",
        "\tmodel = Sequential()\n",
        "\tmodel.add(LSTM(neurons, batch_input_shape=(batch_size, X.shape[1], X.shape[2]), stateful=True))\n",
        "\tmodel.add(Dense(1))\n",
        "\tmodel.compile(loss='mean_squared_error', optimizer='adam')\n",
        "\tfor i in range(nb_epoch):\n",
        "\t\tmodel.fit(X, y, epochs=1, batch_size=batch_size, verbose=0, shuffle=False)\n",
        "\t\tmodel.reset_states()\n",
        "\treturn model\n",
        "\n",
        "# make a one-step forecast\n",
        "def forecast_lstm(model, batch_size, X):\n",
        "\tX = X.reshape(1, 1, len(X))\n",
        "\tyhat = model.predict(X, batch_size=batch_size)\n",
        "\treturn yhat[0,0]"
      ],
      "execution_count": 0,
      "outputs": []
    },
    {
      "cell_type": "code",
      "metadata": {
        "id": "wQ1wLdkb7NFJ",
        "colab_type": "code",
        "colab": {}
      },
      "source": [
        "# load dataset\n",
        "series = pd.read_csv('shampoo.csv', header=0, parse_dates=[0], index_col=0, squeeze=True, date_parser=parser)\n",
        "\n",
        "# transform data to be stationary\n",
        "raw_values = series.values\n",
        "diff_values = difference(raw_values, 1)\n",
        "\n",
        "# transform data to be supervised learning\n",
        "supervised = timeseries_to_supervised(diff_values, 1)\n",
        "supervised_values = supervised.values\n",
        "\n",
        "# split data into train and test-sets\n",
        "train, test = supervised_values[0:-12], supervised_values[-12:]\n",
        "\n",
        "# transform the scale of the data\n",
        "scaler, train_scaled, test_scaled = scale(train, test)"
      ],
      "execution_count": 0,
      "outputs": []
    },
    {
      "cell_type": "code",
      "metadata": {
        "id": "B3YkdUEc7SR2",
        "colab_type": "code",
        "colab": {}
      },
      "source": [
        "# fit the model\n",
        "train, batch_size, nb_epoch, neurons = train_scaled, 1, 3000, 4\n",
        "lstm_model = fit_lstm(train, batch_size, nb_epoch, neurons)\n",
        "\n",
        "# forecast the entire training dataset to build up state for forecasting\n",
        "train_reshaped = train_scaled[:, 0].reshape(len(train_scaled), 1, 1)\n",
        "pred = lstm_model.predict(train_reshaped, batch_size=1)"
      ],
      "execution_count": 0,
      "outputs": []
    },
    {
      "cell_type": "code",
      "metadata": {
        "id": "ryxRLS6L7US0",
        "colab_type": "code",
        "outputId": "2e644b1e-fb75-4709-abfe-1e5373734545",
        "colab": {
          "base_uri": "https://localhost:8080/",
          "height": 221
        }
      },
      "source": [
        "# walk-forward validation on the test data\n",
        "predictions = list()\n",
        "for i in range(len(test_scaled)):\n",
        "\t# make one-step forecast\n",
        "\tX, y = test_scaled[i, 0:-1], test_scaled[i, -1]\n",
        "\tyhat = forecast_lstm(lstm_model, 1, X)\n",
        "\t# invert scaling\n",
        "\tyhat = invert_scale(scaler, X, yhat)\n",
        "\t# invert differencing\n",
        "\tyhat = inverse_difference(raw_values, yhat, len(test_scaled)+1-i)\n",
        "\t# store forecast\n",
        "\tpredictions.append(yhat)\n",
        "\texpected = raw_values[len(train) + i + 1]\n",
        "\tprint('Month=%d, Predicted=%f, Expected=%f' % (i+1, yhat, expected))"
      ],
      "execution_count": 0,
      "outputs": [
        {
          "output_type": "stream",
          "text": [
            "Month=1, Predicted=314.876082, Expected=339.700000\n",
            "Month=2, Predicted=379.244132, Expected=440.400000\n",
            "Month=3, Predicted=371.963904, Expected=315.900000\n",
            "Month=4, Predicted=395.463316, Expected=439.300000\n",
            "Month=5, Predicted=346.693512, Expected=401.300000\n",
            "Month=6, Predicted=474.806945, Expected=437.400000\n",
            "Month=7, Predicted=450.234991, Expected=575.500000\n",
            "Month=8, Predicted=491.021862, Expected=407.600000\n",
            "Month=9, Predicted=502.865039, Expected=682.000000\n",
            "Month=10, Predicted=575.863335, Expected=475.300000\n",
            "Month=11, Predicted=564.326993, Expected=581.300000\n",
            "Month=12, Predicted=511.221594, Expected=646.900000\n"
          ],
          "name": "stdout"
        }
      ]
    },
    {
      "cell_type": "code",
      "metadata": {
        "id": "6bj0n6NH7Wez",
        "colab_type": "code",
        "outputId": "80337bc2-b9fc-418f-d5bc-0aeef5e5777c",
        "colab": {
          "base_uri": "https://localhost:8080/",
          "height": 34
        }
      },
      "source": [
        "# report performance\n",
        "rmse = sqrt(mean_squared_error(raw_values[-12:], predictions))\n",
        "print('Test RMSE: %.3f' % rmse)"
      ],
      "execution_count": 0,
      "outputs": [
        {
          "output_type": "stream",
          "text": [
            "Test RMSE: 90.070\n"
          ],
          "name": "stdout"
        }
      ]
    },
    {
      "cell_type": "code",
      "metadata": {
        "id": "L9YHUIUv7YUA",
        "colab_type": "code",
        "outputId": "8fda7be4-9e52-4ec5-903f-9d32e1574386",
        "colab": {
          "base_uri": "https://localhost:8080/",
          "height": 378
        }
      },
      "source": [
        "# line plot of observed vs predicted\n",
        "plt.plot(raw_values[-12:])\n",
        "plt.plot(predictions)\n",
        "plt.show()"
      ],
      "execution_count": 0,
      "outputs": [
        {
          "output_type": "display_data",
          "data": {
            "image/png": "[encoded data removed]",
            "text/plain": [
              "<Figure size 1080x432 with 1 Axes>"
            ]
          },
          "metadata": {
            "tags": []
          }
        }
      ]
    },
    {
      "cell_type": "markdown",
      "metadata": {
        "id": "JWV6EQ1g8A_M",
        "colab_type": "text"
      },
      "source": [
        "#Develop a Robust Result\n",
        "\n",
        "A difficulty with neural networks is that they give different results with different starting conditions.\n",
        "\n",
        "One approach might be to fix the random number seed used by Keras to ensure the results are reproducible. Another approach would be to control for the random initial conditions using a different experimental setup."
      ]
    },
    {
      "cell_type": "markdown",
      "metadata": {
        "id": "B5mrVt0g8A8n",
        "colab_type": "text"
      },
      "source": [
        "We can repeat the experiment from the previous section multiple times, then take the average RMSE as an indication of how well the configuration would be expected to perform on unseen data on average.\n",
        "\n",
        "This is often called multiple repeats or multiple restarts.\n",
        "\n",
        "We can wrap the model fitting and walk-forward validation in a loop of fixed number of repeats. Each iteration the RMSE of the run can be recorded. We can then summarize the distribution of RMSE scores."
      ]
    },
    {
      "cell_type": "code",
      "metadata": {
        "id": "3ct8IaSh8A6f",
        "colab_type": "code",
        "colab": {}
      },
      "source": [
        "# repeat experiment\n",
        "repeats = 30\n",
        "error_scores = list()\n",
        "for r in range(repeats):\n",
        "\t# fit the model\n",
        "\tlstm_model = fit_lstm(train_scaled, 1, 3000, 4)\n",
        "\t# forecast the entire training dataset to build up state for forecasting\n",
        "\ttrain_reshaped = train_scaled[:, 0].reshape(len(train_scaled), 1, 1)\n",
        "\tlstm_model.predict(train_reshaped, batch_size=1)\n",
        "\t# walk-forward validation on the test data\n",
        "\tpredictions = list()\n",
        "\tfor i in range(len(test_scaled)):\n",
        "\t\t# make one-step forecast\n",
        "\t\tX, y = test_scaled[i, 0:-1], test_scaled[i, -1]\n",
        "\t\tyhat = forecast_lstm(lstm_model, 1, X)\n",
        "\t\t# invert scaling\n",
        "\t\tyhat = invert_scale(scaler, X, yhat)\n",
        "\t\t# invert differencing\n",
        "\t\tyhat = inverse_difference(raw_values, yhat, len(test_scaled)+1-i)\n",
        "\t\t# store forecast\n",
        "\t\tpredictions.append(yhat)\n",
        "\t# report performance\n",
        "\trmse = sqrt(mean_squared_error(raw_values[-12:], predictions))\n",
        "\tprint('%d) Test RMSE: %.3f' % (r+1, rmse))\n",
        "\terror_scores.append(rmse)"
      ],
      "execution_count": 0,
      "outputs": []
    },
    {
      "cell_type": "markdown",
      "metadata": {
        "id": "rYhIaDJ-8A23",
        "colab_type": "text"
      },
      "source": [
        "The data preparation would be the same as before.\n",
        "\n",
        "We will use 30 repeats as that is sufficient to provide a good distribution of RMSE scores.\n",
        "\n",
        "The complete example is listed below."
      ]
    },
    {
      "cell_type": "code",
      "metadata": {
        "id": "qCyK_1oJ90Fh",
        "colab_type": "code",
        "outputId": "fb520efc-55f2-4363-dd55-191574409b62",
        "colab": {
          "base_uri": "https://localhost:8080/",
          "height": 1000
        }
      },
      "source": [
        "import numpy as np\n",
        "import pandas as pd\n",
        "from math import sqrt\n",
        "from matplotlib import pyplot as plt\n",
        "\n",
        "from keras.layers import LSTM\n",
        "from keras.layers import Dense\n",
        "from keras.models import Sequential\n",
        "from sklearn.preprocessing import MinMaxScaler\n",
        "from sklearn.metrics import mean_squared_error\n",
        "\n",
        "# date-time parsing function for loading the dataset\n",
        "def parser(x):\n",
        "\treturn pd.datetime.strptime('190'+x, '%Y-%m')\n",
        "\n",
        "# frame a sequence as a supervised learning problem\n",
        "def timeseries_to_supervised(data, lag=1):\n",
        "\tdf = pd.DataFrame(data)\n",
        "\tcolumns = [df.shift(i) for i in range(1, lag+1)]\n",
        "\tcolumns.append(df)\n",
        "\tdf = pd.concat(columns, axis=1)\n",
        "\tdf.fillna(0, inplace=True)\n",
        "\treturn df\n",
        "\n",
        "# create a differenced series\n",
        "def difference(dataset, interval=1):\n",
        "\tdiff = list()\n",
        "\tfor i in range(interval, len(dataset)):\n",
        "\t\tvalue = dataset[i] - dataset[i - interval]\n",
        "\t\tdiff.append(value)\n",
        "\treturn pd.Series(diff)\n",
        "\n",
        "# invert differenced value\n",
        "def inverse_difference(history, yhat, interval=1):\n",
        "\treturn yhat + history[-interval]\n",
        "\n",
        "# scale train and test data to [-1, 1]\n",
        "def scale(train, test):\n",
        "\t# fit scaler\n",
        "\tscaler = MinMaxScaler(feature_range=(-1, 1))\n",
        "\tscaler = scaler.fit(train)\n",
        "\t# transform train\n",
        "\ttrain = train.reshape(train.shape[0], train.shape[1])\n",
        "\ttrain_scaled = scaler.transform(train)\n",
        "\t# transform test\n",
        "\ttest = test.reshape(test.shape[0], test.shape[1])\n",
        "\ttest_scaled = scaler.transform(test)\n",
        "\treturn scaler, train_scaled, test_scaled\n",
        "\n",
        "# inverse scaling for a forecasted value\n",
        "def invert_scale(scaler, X, value):\n",
        "\tnew_row = [x for x in X] + [value]\n",
        "\tarray = np.array(new_row)\n",
        "\tarray = array.reshape(1, len(array))\n",
        "\tinverted = scaler.inverse_transform(array)\n",
        "\treturn inverted[0, -1]\n",
        "\n",
        "# fit an LSTM network to training data\n",
        "def fit_lstm(train, batch_size, nb_epoch, neurons):\n",
        "\tX, y = train[:, 0:-1], train[:, -1]\n",
        "\tX = X.reshape(X.shape[0], 1, X.shape[1])\n",
        "\tmodel = Sequential()\n",
        "\tmodel.add(LSTM(neurons, batch_input_shape=(batch_size, X.shape[1], X.shape[2]), stateful=True))\n",
        "\tmodel.add(Dense(1))\n",
        "\tmodel.compile(loss='mean_squared_error', optimizer='adam')\n",
        "\tfor i in range(nb_epoch):\n",
        "\t\tmodel.fit(X, y, epochs=1, batch_size=batch_size, verbose=0, shuffle=False)\n",
        "\t\tmodel.reset_states()\n",
        "\treturn model\n",
        "\n",
        "# make a one-step forecast\n",
        "def forecast_lstm(model, batch_size, X):\n",
        "\tX = X.reshape(1, 1, len(X))\n",
        "\tyhat = model.predict(X, batch_size=batch_size)\n",
        "\treturn yhat[0,0]\n",
        "\n",
        "\n",
        "# load dataset\n",
        "series = pd.read_csv('shampoo.csv', header=0, parse_dates=[0], index_col=0, squeeze=True, date_parser=parser)\n",
        "\n",
        "# transform data to be stationary\n",
        "raw_values = series.values\n",
        "diff_values = difference(raw_values, 1)\n",
        "\n",
        "# transform data to be supervised learning\n",
        "supervised = timeseries_to_supervised(diff_values, 1)\n",
        "supervised_values = supervised.values\n",
        "\n",
        "# split data into train and test-sets\n",
        "train, test = supervised_values[0:-12], supervised_values[-12:]\n",
        "\n",
        "# transform the scale of the data\n",
        "scaler, train_scaled, test_scaled = scale(train, test)\n",
        "\n",
        "# repeat experiment\n",
        "repeats = 30\n",
        "error_scores = list()\n",
        "for r in range(repeats):\n",
        "\t# fit the model\n",
        "\tlstm_model = fit_lstm(train_scaled, 1, 3000, 4)\n",
        "\t# forecast the entire training dataset to build up state for forecasting\n",
        "\ttrain_reshaped = train_scaled[:, 0].reshape(len(train_scaled), 1, 1)\n",
        "\tlstm_model.predict(train_reshaped, batch_size=1)\n",
        "\t# walk-forward validation on the test data\n",
        "\tpredictions = list()\n",
        "\tfor i in range(len(test_scaled)):\n",
        "\t\t# make one-step forecast\n",
        "\t\tX, y = test_scaled[i, 0:-1], test_scaled[i, -1]\n",
        "\t\tyhat = forecast_lstm(lstm_model, 1, X)\n",
        "\t\t# invert scaling\n",
        "\t\tyhat = invert_scale(scaler, X, yhat)\n",
        "\t\t# invert differencing\n",
        "\t\tyhat = inverse_difference(raw_values, yhat, len(test_scaled)+1-i)\n",
        "\t\t# store forecast\n",
        "\t\tpredictions.append(yhat)\n",
        "\t# report performance\n",
        "\trmse = sqrt(mean_squared_error(raw_values[-12:], predictions))\n",
        "\tprint('%d) Test RMSE: %.3f' % (r+1, rmse))\n",
        "\terror_scores.append(rmse)\n",
        "\n",
        "# summarize results\n",
        "results = pd.DataFrame()\n",
        "results['rmse'] = error_scores\n",
        "print(results.describe())\n",
        "results.boxplot()\n",
        "plt.show()"
      ],
      "execution_count": 0,
      "outputs": [
        {
          "output_type": "stream",
          "text": [
            "1) Test RMSE: 95.298\n",
            "2) Test RMSE: 87.022\n",
            "3) Test RMSE: 160.587\n",
            "4) Test RMSE: 232.576\n",
            "5) Test RMSE: 91.872\n",
            "6) Test RMSE: 150.551\n",
            "7) Test RMSE: 110.556\n",
            "8) Test RMSE: 112.320\n",
            "9) Test RMSE: 89.145\n",
            "10) Test RMSE: 221.299\n",
            "11) Test RMSE: 134.747\n",
            "12) Test RMSE: 144.504\n",
            "13) Test RMSE: 274.488\n",
            "14) Test RMSE: 207.134\n",
            "15) Test RMSE: 100.507\n",
            "16) Test RMSE: 92.250\n",
            "17) Test RMSE: 155.091\n",
            "18) Test RMSE: 108.680\n",
            "19) Test RMSE: 162.531\n",
            "20) Test RMSE: 107.158\n",
            "21) Test RMSE: 85.330\n",
            "22) Test RMSE: 85.904\n",
            "23) Test RMSE: 104.869\n",
            "24) Test RMSE: 94.277\n",
            "25) Test RMSE: 109.183\n",
            "26) Test RMSE: 88.791\n",
            "27) Test RMSE: 131.924\n",
            "28) Test RMSE: 135.385\n",
            "29) Test RMSE: 117.971\n",
            "30) Test RMSE: 133.421\n",
            "             rmse\n",
            "count   30.000000\n",
            "mean   130.845741\n",
            "std     48.153992\n",
            "min     85.330448\n",
            "25%     94.532256\n",
            "50%    111.438140\n",
            "75%    149.039462\n",
            "max    274.488260\n"
          ],
          "name": "stdout"
        },
        {
          "output_type": "display_data",
          "data": {
            "image/png": "[encoded data removed]",
            "text/plain": [
              "<Figure size 1080x432 with 1 Axes>"
            ]
          },
          "metadata": {
            "tags": []
          }
        }
      ]
    },
    {
      "cell_type": "markdown",
      "metadata": {
        "id": "uCDADdxaAhUJ",
        "colab_type": "text"
      },
      "source": [
        "Running the example prints the RMSE score each repeat. The end of the run provides summary statistics of the collected RMSE scores.\n",
        "\n",
        "We can see that the mean and standard deviation RMSE scores are 136.824368 and 51.547265 monthly shampoo sales respectively.\n",
        "\n",
        "This is a very useful result as it suggests the result reported above was probably a statistical fluke. The experiment suggests that the model is probably about as good as the persistence model on average (136.761), if not slightly worse.\n",
        "\n",
        "This indicates that, at the very least, further model tuning is required."
      ]
    },
    {
      "cell_type": "markdown",
      "metadata": {
        "id": "rbbhr4T3AykJ",
        "colab_type": "text"
      },
      "source": [
        "#Tutorial Extensions\n",
        "There are many extensions to this tutorial that we may consider.\n"
      ]
    },
    {
      "cell_type": "markdown",
      "metadata": {
        "id": "aOXEhLrf95JQ",
        "colab_type": "text"
      },
      "source": [
        "\n",
        "\n",
        "*   **Multi-Step Forecast**. The experimental setup could be changed to predict the next n-time steps rather than the next single time step. This would also permit a larger batch size and faster training. Note that we are basically performing a type of 12 one-step forecast in this tutorial given the model is not updated, although new observations are available and are used as input variables.\n",
        "*   **Tune LSTM model**. The model was not tuned; instead, the configuration was found with some quick trial and error. I believe much better results could be achieved by tuning at least the number of neurons and number of training epochs. I also think early stopping via a callback might be useful during training.\n",
        "\n",
        "*  **Seed State Experiments**. It is not clear whether seeding the system prior to forecasting by predicting all of the training data is beneficial. It seems like a good idea in theory, but this needs to be demonstrated. Also, perhaps other methods of seeding the model prior to forecasting would be beneficial.\n",
        "\n",
        "* **Update Model**. The model could be updated in each time step of the walk-forward validation. Experiments are needed to determine if it would be better to refit the model from scratch or update the weights with a few more training epochs including the new sample.\n",
        "\n",
        "* **Input Time Steps**. The LSTM input supports multiple time steps for a sample. Experiments are needed to see if including lag observations as time steps provides any benefit.\n",
        "\n",
        "* **Input Lag Features**. Lag observations may be included as input features. Experiments are needed to see if including lag features provide any benefit, not unlike an AR(k) linear model.\n",
        "\n",
        "* **Input Error Series**. An error series may be constructed (forecast error from a persistence model) and used as an additional input feature, not unlike an MA(k) linear model. Experiments are needed to see if this provides any benefit.\n",
        "\n",
        "* **Learn Non-Stationary**. The LSTM network may be able to learn the trend in the data and make reasonable predictions. Experiments are needed to see if temporal dependent structures, like trends and seasonality, left in data can be learned and effectively predicted by LSTMs.\n",
        "\n",
        "* **Contrast Stateless**. Stateful LSTMs were used in this tutorial. The results should be compared with stateless LSTM configurations.\n",
        "\n",
        "* **Statistical Significance**. The multiple repeats experimental protocol can be extended further to include statistical significance tests to demonstrate whether the difference between populations of RMSE results with different configurations are statistically significant.\n",
        "\n"
      ]
    },
    {
      "cell_type": "markdown",
      "metadata": {
        "id": "gI_KMXN6Botu",
        "colab_type": "text"
      },
      "source": [
        "#Summary\n",
        "In this tutorial, you discovered how to develop an LSTM model for time series forecasting.\n",
        "\n",
        "Specifically, you learned:\n",
        "\n",
        "* How to prepare time series data for developing an LSTM model.\n",
        "* How to develop an LSTM model for time series forecasting.\n",
        "* How to evaluate an LSTM model using a robust test harness."
      ]
    }
  ]
}