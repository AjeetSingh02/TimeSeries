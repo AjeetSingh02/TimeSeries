{
  "nbformat": 4,
  "nbformat_minor": 0,
  "metadata": {
    "colab": {
      "name": "HearBeatUnivariateLSTM.ipynb",
      "provenance": [],
      "collapsed_sections": [
        "_9C2KH7ZCx55"
      ],
      "authorship_tag": "ABX9TyPKp3BkMGHlY8dv7qTEYkZz",
      "include_colab_link": true
    },
    "kernelspec": {
      "name": "python3",
      "display_name": "Python 3"
    },
    "accelerator": "TPU"
  },
  "cells": [
    {
      "cell_type": "markdown",
      "metadata": {
        "id": "view-in-github",
        "colab_type": "text"
      },
      "source": [
        "<a href=\"https://colab.research.google.com/github/AjeetSingh02/TimeSeries/blob/master/HearBeatUnivariateLSTM.ipynb\" target=\"_parent\"><img src=\"https://colab.research.google.com/assets/colab-badge.svg\" alt=\"Open In Colab\"/></a>"
      ]
    },
    {
      "cell_type": "code",
      "metadata": {
        "id": "ldyCxicteDxU",
        "colab_type": "code",
        "colab": {}
      },
      "source": [
        "import warnings\n",
        "warnings.filterwarnings(\"ignore\")"
      ],
      "execution_count": 0,
      "outputs": []
    },
    {
      "cell_type": "code",
      "metadata": {
        "id": "9zuYloSSTRZA",
        "colab_type": "code",
        "colab": {}
      },
      "source": [
        "from pylab import rcParams\n",
        "rcParams['figure.figsize'] = 15, 6"
      ],
      "execution_count": 0,
      "outputs": []
    },
    {
      "cell_type": "markdown",
      "metadata": {
        "id": "3AfZBHbAC8lk",
        "colab_type": "text"
      },
      "source": [
        "# Basic"
      ]
    },
    {
      "cell_type": "code",
      "metadata": {
        "id": "oJfeW8LV4Tg8",
        "colab_type": "code",
        "outputId": "6efbde6a-a094-4472-caf6-4ddd75ecac76",
        "colab": {
          "base_uri": "https://localhost:8080/",
          "height": 80
        }
      },
      "source": [
        "import numpy as np\n",
        "import pandas as pd\n",
        "from math import sqrt\n",
        "from matplotlib import pyplot as plt\n",
        "\n",
        "from keras.layers import LSTM\n",
        "from keras.layers import Dense\n",
        "from keras.models import Sequential\n",
        "from sklearn.preprocessing import MinMaxScaler\n",
        "from sklearn.metrics import mean_squared_error\n",
        "\n",
        "\n",
        "# frame a sequence as a supervised learning problem\n",
        "def timeseries_to_supervised(data, lag=1):\n",
        "\tdf = pd.DataFrame(data)\n",
        "\tcolumns = [df.shift(i) for i in range(1, lag+1)]\n",
        "\tcolumns.append(df)\n",
        "\tdf = pd.concat(columns, axis=1)\n",
        "\tdf.fillna(0, inplace=True)\n",
        "\treturn df\n",
        "\n",
        "# create a differenced series\n",
        "def difference(dataset, interval=1):\n",
        "\tdiff = list()\n",
        "\tfor i in range(interval, len(dataset)):\n",
        "\t\tvalue = dataset[i] - dataset[i - interval]\n",
        "\t\tdiff.append(value)\n",
        "\treturn pd.Series(diff)\n",
        "\n",
        "# invert differenced value\n",
        "def inverse_difference(history, yhat, interval=1):\n",
        "\treturn yhat + history[-interval]\n",
        "\n",
        "# scale train and test data to [-1, 1]\n",
        "def scale(train, test):\n",
        "\t# fit scaler\n",
        "\tscaler = MinMaxScaler(feature_range=(-1, 1))\n",
        "\tscaler = scaler.fit(train)\n",
        "\t# transform train\n",
        "\ttrain = train.reshape(train.shape[0], train.shape[1])\n",
        "\ttrain_scaled = scaler.transform(train)\n",
        "\t# transform test\n",
        "\ttest = test.reshape(test.shape[0], test.shape[1])\n",
        "\ttest_scaled = scaler.transform(test)\n",
        "\treturn scaler, train_scaled, test_scaled\n",
        "\n",
        "# inverse scaling for a forecasted value\n",
        "def invert_scale(scaler, X, value):\n",
        "\tnew_row = [x for x in X] + [value]\n",
        "\tarray = np.array(new_row)\n",
        "\tarray = array.reshape(1, len(array))\n",
        "\tinverted = scaler.inverse_transform(array)\n",
        "\treturn inverted[0, -1]\n",
        "\n",
        "# fit an LSTM network to training data\n",
        "def fit_lstm(train, batch_size, nb_epoch, neurons):\n",
        "\tX, y = train[:, 0:-1], train[:, -1]\n",
        "\tX = X.reshape(X.shape[0], 1, X.shape[1])\n",
        "\tmodel = Sequential()\n",
        "\tmodel.add(LSTM(neurons, batch_input_shape=(batch_size, X.shape[1], X.shape[2]), stateful=True))\n",
        "\tmodel.add(Dense(1))\n",
        "\tmodel.compile(loss='mean_squared_error', optimizer='adam')\n",
        "\tfor i in range(nb_epoch):\n",
        "\t\tmodel.fit(X, y, epochs=1, batch_size=batch_size, verbose=0, shuffle=False)\n",
        "\t\tmodel.reset_states()\n",
        "\treturn model\n",
        "\n",
        "# make a one-step forecast\n",
        "def forecast_lstm(model, batch_size, X):\n",
        "\tX = X.reshape(1, 1, len(X))\n",
        "\tyhat = model.predict(X, batch_size=batch_size)\n",
        "\treturn yhat[0,0]"
      ],
      "execution_count": 0,
      "outputs": [
        {
          "output_type": "stream",
          "text": [
            "Using TensorFlow backend.\n"
          ],
          "name": "stderr"
        },
        {
          "output_type": "display_data",
          "data": {
            "text/html": [
              "<p style=\"color: red;\">\n",
              "The default version of TensorFlow in Colab will soon switch to TensorFlow 2.x.<br>\n",
              "We recommend you <a href=\"https://www.tensorflow.org/guide/migrate\" target=\"_blank\">upgrade</a> now \n",
              "or ensure your notebook will continue to use TensorFlow 1.x via the <code>%tensorflow_version 1.x</code> magic:\n",
              "<a href=\"https://colab.research.google.com/notebooks/tensorflow_version.ipynb\" target=\"_blank\">more info</a>.</p>\n"
            ],
            "text/plain": [
              "<IPython.core.display.HTML object>"
            ]
          },
          "metadata": {
            "tags": []
          }
        }
      ]
    },
    {
      "cell_type": "code",
      "metadata": {
        "id": "95o-eIIRbFdl",
        "colab_type": "code",
        "colab": {}
      },
      "source": [
        "# load dataset\n",
        "series = pd.read_csv('subject1.csv', header=0, index_col=0, squeeze=True, parse_dates=[\"ds\"])\n",
        "\n",
        "# transform data to be stationary\n",
        "raw_values = series.values\n",
        "diff_values = difference(raw_values, 1)\n",
        "\n",
        "# transform data to be supervised learning\n",
        "supervised = timeseries_to_supervised(diff_values, 1)\n",
        "supervised_values = supervised.values\n",
        "\n",
        "# split data into train and test-sets\n",
        "split_point = int(len(supervised_values)/3)\n",
        "train, test = supervised_values[0:-split_point], supervised_values[-split_point:]\n",
        "\n",
        "# transform the scale of the data\n",
        "scaler, train_scaled, test_scaled = scale(train, test)"
      ],
      "execution_count": 0,
      "outputs": []
    },
    {
      "cell_type": "code",
      "metadata": {
        "id": "ob4piXrObIrC",
        "colab_type": "code",
        "colab": {}
      },
      "source": [
        "# fit the model\n",
        "\n",
        "train = train_scaled\n",
        "batch_size = 1\n",
        "nb_epoch = 3000\n",
        "neurons = 4\n",
        "lstm_model = fit_lstm(train, batch_size, nb_epoch, neurons)"
      ],
      "execution_count": 0,
      "outputs": []
    },
    {
      "cell_type": "code",
      "metadata": {
        "id": "x8ULU14ZB0sj",
        "colab_type": "code",
        "colab": {}
      },
      "source": [
        "# forecast the entire training dataset to build up state for forecasting\n",
        "train_reshaped = train_scaled[:, 0].reshape(len(train_scaled), 1, 1)\n",
        "pred = lstm_model.predict(train_reshaped, batch_size=1)"
      ],
      "execution_count": 0,
      "outputs": []
    },
    {
      "cell_type": "code",
      "metadata": {
        "id": "qHIicnhrbIvf",
        "colab_type": "code",
        "colab": {}
      },
      "source": [
        "# walk-forward validation on the test data\n",
        "predictions = list()\n",
        "for i in range(len(test_scaled)):\n",
        "\t# make one-step forecast\n",
        "\tX, y = test_scaled[i, 0:-1], test_scaled[i, -1]\n",
        "\tyhat = forecast_lstm(lstm_model, 1, X)\n",
        "\t# invert scaling\n",
        "\tyhat = invert_scale(scaler, X, yhat)\n",
        "\t# invert differencing\n",
        "\tyhat = inverse_difference(raw_values, yhat, len(test_scaled)+1-i)\n",
        "\t# store forecast\n",
        "\tpredictions.append(yhat)\n",
        "\texpected = raw_values[len(train) + i + 1]\n",
        "\t# print('instance=%d, Predicted=%f, Expected=%f' % (i+1, yhat, expected))"
      ],
      "execution_count": 0,
      "outputs": []
    },
    {
      "cell_type": "code",
      "metadata": {
        "colab_type": "code",
        "outputId": "dc5f1f81-e819-4d37-c52d-685b6f903a3f",
        "id": "t3FBli_Uqc0-",
        "colab": {
          "base_uri": "https://localhost:8080/",
          "height": 34
        }
      },
      "source": [
        "# report performance\n",
        "rmse = sqrt(mean_squared_error(raw_values[-split_point:], predictions))\n",
        "print('Test RMSE: %.3f' % rmse)"
      ],
      "execution_count": 0,
      "outputs": [
        {
          "output_type": "stream",
          "text": [
            "Test RMSE: 1.381\n"
          ],
          "name": "stdout"
        }
      ]
    },
    {
      "cell_type": "code",
      "metadata": {
        "id": "ZLFG9DtGbMMe",
        "colab_type": "code",
        "outputId": "a870f83d-fac3-4204-ff93-1fa7cb7829b9",
        "colab": {
          "base_uri": "https://localhost:8080/",
          "height": 374
        }
      },
      "source": [
        "# line plot of observed vs predicted\n",
        "plt.plot(raw_values[-split_point:])\n",
        "plt.plot(predictions)\n",
        "plt.show()"
      ],
      "execution_count": 0,
      "outputs": [
        {
          "output_type": "display_data",
          "data": {
            "image/png": "[encoded data removed]",
            "text/plain": [
              "<Figure size 1080x432 with 1 Axes>"
            ]
          },
          "metadata": {
            "tags": []
          }
        }
      ]
    },
    {
      "cell_type": "markdown",
      "metadata": {
        "id": "m74u2IjrDUUu",
        "colab_type": "text"
      },
      "source": [
        "**I am doubtful of these results. Have to check**"
      ]
    },
    {
      "cell_type": "markdown",
      "metadata": {
        "id": "_9C2KH7ZCx55",
        "colab_type": "text"
      },
      "source": [
        "# Repeat "
      ]
    },
    {
      "cell_type": "code",
      "metadata": {
        "id": "9W1a1-Neqf88",
        "colab_type": "code",
        "outputId": "3d108024-d8a6-4e39-b686-1a9b21ec77ef",
        "colab": {
          "base_uri": "https://localhost:8080/",
          "height": 537
        }
      },
      "source": [
        "# Going for repeat\n",
        "\n",
        "# load dataset\n",
        "series = pd.read_csv('subject1.csv', header=0, index_col=0, squeeze=True, parse_dates=[\"ds\"])\n",
        "\n",
        "# transform data to be stationary\n",
        "raw_values = series.values\n",
        "diff_values = difference(raw_values, 1)\n",
        "\n",
        "# transform data to be supervised learning\n",
        "supervised = timeseries_to_supervised(diff_values, 1)\n",
        "supervised_values = supervised.values\n",
        "\n",
        "# split data into train and test-sets\n",
        "train, test = supervised_values[0:-257], supervised_values[-257:]\n",
        "\n",
        "# transform the scale of the data\n",
        "scaler, train_scaled, test_scaled = scale(train, test)\n",
        "\n",
        "# repeat experiment\n",
        "repeats = 7\n",
        "error_scores = list()\n",
        "for r in range(repeats):\n",
        "\t# fit the model\n",
        "\tlstm_model = fit_lstm(train_scaled, 1, 100, 4)\n",
        "\t# forecast the entire training dataset to build up state for forecasting\n",
        "\ttrain_reshaped = train_scaled[:, 0].reshape(len(train_scaled), 1, 1)\n",
        "\tlstm_model.predict(train_reshaped, batch_size=1)\n",
        "\t# walk-forward validation on the test data\n",
        "\tpredictions = list()\n",
        "\tfor i in range(len(test_scaled)):\n",
        "\t\t# make one-step forecast\n",
        "\t\tX, y = test_scaled[i, 0:-1], test_scaled[i, -1]\n",
        "\t\tyhat = forecast_lstm(lstm_model, 1, X)\n",
        "\t\t# invert scaling\n",
        "\t\tyhat = invert_scale(scaler, X, yhat)\n",
        "\t\t# invert differencing\n",
        "\t\tyhat = inverse_difference(raw_values, yhat, len(test_scaled)+1-i)\n",
        "\t\t# store forecast\n",
        "\t\tpredictions.append(yhat)\n",
        "\t# report performance\n",
        "\trmse = sqrt(mean_squared_error(raw_values[-257:], predictions))\n",
        "\tprint('%d) Test RMSE: %.3f' % (r+1, rmse))\n",
        "\terror_scores.append(rmse)\n",
        "\n",
        "# summarize results\n",
        "results = pd.DataFrame()\n",
        "results['rmse'] = error_scores\n",
        "print(results.describe())\n",
        "results.boxplot()\n",
        "plt.show()"
      ],
      "execution_count": 0,
      "outputs": [
        {
          "output_type": "stream",
          "text": [
            "1) Test RMSE: 1.702\n",
            "2) Test RMSE: 1.709\n",
            "3) Test RMSE: 1.681\n",
            "4) Test RMSE: 1.716\n",
            "5) Test RMSE: 1.713\n",
            "6) Test RMSE: 1.730\n",
            "7) Test RMSE: 1.670\n",
            "           rmse\n",
            "count  7.000000\n",
            "mean   1.703046\n",
            "std    0.020868\n",
            "min    1.670215\n",
            "25%    1.691299\n",
            "50%    1.708765\n",
            "75%    1.714756\n",
            "max    1.730232\n"
          ],
          "name": "stdout"
        },
        {
          "output_type": "display_data",
          "data": {
            "image/png": "[encoded data removed]",
            "text/plain": [
              "<Figure size 432x288 with 1 Axes>"
            ]
          },
          "metadata": {
            "tags": []
          }
        }
      ]
    },
    {
      "cell_type": "markdown",
      "metadata": {
        "id": "u0vzp4tNDNyi",
        "colab_type": "text"
      },
      "source": [
        "# Others"
      ]
    },
    {
      "cell_type": "markdown",
      "metadata": {
        "id": "I6hrOVLOC33W",
        "colab_type": "text"
      },
      "source": [
        "Results are same for multiple iterations. I will see some other things to validate"
      ]
    },
    {
      "cell_type": "markdown",
      "metadata": {
        "id": "X5hBs2Z3qf4n",
        "colab_type": "text"
      },
      "source": [
        "# Approach1"
      ]
    },
    {
      "cell_type": "markdown",
      "metadata": {
        "id": "wzII02DrDbM-",
        "colab_type": "text"
      },
      "source": [
        "Now we will put in the predicted value back into the forcast instead of putting in original test value.\n",
        "We will use the test value for the plot."
      ]
    },
    {
      "cell_type": "code",
      "metadata": {
        "id": "NDIOV2x-ay4i",
        "colab_type": "code",
        "colab": {}
      },
      "source": [
        "import numpy as np\n",
        "import pandas as pd\n",
        "from math import sqrt\n",
        "from matplotlib import pyplot as plt\n",
        "\n",
        "from keras.layers import LSTM\n",
        "from keras.layers import Dense\n",
        "from keras.models import Sequential\n",
        "from sklearn.preprocessing import MinMaxScaler\n",
        "from sklearn.metrics import mean_squared_error\n",
        "from sklearn.model_selection import train_test_split\n",
        "\n",
        "\n",
        "# frame a sequence as a supervised learning problem\n",
        "def timeseries_to_supervised(data, lag=1):\n",
        "\tdf = pd.DataFrame(data)\n",
        "\tcolumns = [df.shift(i) for i in range(1, lag+1)]\n",
        "\tcolumns.append(df)\n",
        "\tdf = pd.concat(columns, axis=1)\n",
        "\tdf.fillna(0, inplace=True)\n",
        "\treturn df\n",
        "\n",
        "# create a differenced series\n",
        "def difference(dataset, interval=1):\n",
        "\tdiff = list()\n",
        "\tfor i in range(interval, len(dataset)):\n",
        "\t\tvalue = dataset[i] - dataset[i - interval]\n",
        "\t\tdiff.append(value)\n",
        "\treturn pd.Series(diff)\n",
        "\n",
        "# invert differenced value\n",
        "def inverse_difference(history, yhat, interval=1):\n",
        "\treturn yhat + history[-interval]\n",
        "\n",
        "# Generate MinMAxscaler object\n",
        "def generate_scaler(X):\n",
        "    scaler = MinMaxScaler(feature_range=(-1, 1))\n",
        "    scaler = scaler.fit(X)\n",
        "    return scaler\n",
        "\n",
        "# Scale \n",
        "def scale_mod(scaler, X):\n",
        "    return scaler.transform(X)\n",
        "\n",
        "#Inverse scale\n",
        "def scale_invert_mod(scaler, X):\n",
        "    return scaler.inverse_transform(X)\n",
        "\n",
        "# fit an LSTM network to training data\n",
        "def fit_lstm(X_train, y_train, batch_size, nb_epoch, neurons):\n",
        "\tX = X_train.reshape(X_train.shape[0], 1, X_train.shape[1])\n",
        "\tmodel = Sequential()\n",
        "\tmodel.add(LSTM(neurons, batch_input_shape=(batch_size, X.shape[1], X.shape[2]), stateful=True))\n",
        "\tmodel.add(Dense(1))\n",
        "\tmodel.compile(loss='mean_squared_error', optimizer='adam')\n",
        "\tfor i in range(nb_epoch):\n",
        "\t\tmodel.fit(X, y_train, epochs=1, batch_size=batch_size, verbose=0, shuffle=False)\n",
        "\t\tmodel.reset_states()\n",
        "\treturn model\n",
        "\n",
        "# make a one-step forecast\n",
        "def forecast_lstm(model, batch_size, X):\n",
        "\tX = X.reshape(1, 1, len(X))\n",
        "\tyhat = model.predict(X, batch_size=batch_size)\n",
        "\treturn yhat[0,0]"
      ],
      "execution_count": 0,
      "outputs": []
    },
    {
      "cell_type": "code",
      "metadata": {
        "id": "Rx7Alqbevu-K",
        "colab_type": "code",
        "colab": {}
      },
      "source": [
        "# load dataset\n",
        "series = pd.read_csv('subject3.csv', header=0, index_col=0, squeeze=True, parse_dates=[\"ds\"])\n",
        "\n",
        "# transform data to be stationary\n",
        "raw_values = series.values\n",
        "diff_values = difference(raw_values, 1)\n",
        "\n",
        "# transform data to be supervised learning\n",
        "supervised = timeseries_to_supervised(diff_values, 1)\n",
        "supervised_values = supervised.values\n",
        "\n",
        "X, y = supervised_values[:,0], supervised_values[:,1]\n",
        "X_train, X_test, y_train, y_test = train_test_split(X, y, test_size=0.33, random_state=42)\n",
        "\n",
        "X_train_reshaped = X_train.reshape(-1,1) \n",
        "X_test_reshaped = X_test.reshape(-1, 1)\n",
        "y_train_reshaped = y_train.reshape(-1, 1)\n",
        "y_test_reshaped = y_test.reshape(-1, 1)\n",
        "\n",
        "scaler = generate_scaler(X_train_reshaped)\n",
        "\n",
        "X_train_scaled = scale_mod(scaler, X_train_reshaped)\n",
        "X_test_scaled = scale_mod(scaler, X_test_reshaped)\n",
        "y_train_scaled = scale_mod(scaler, y_train_reshaped)\n",
        "y_test_scaled = scale_mod(scaler, y_test_reshaped)"
      ],
      "execution_count": 0,
      "outputs": []
    },
    {
      "cell_type": "code",
      "metadata": {
        "id": "rFW1XPbdxu10",
        "colab_type": "code",
        "colab": {}
      },
      "source": [
        "# fit the model\n",
        "\n",
        "batch_size = 1\n",
        "nb_epoch = 3000\n",
        "neurons = 4\n",
        "lstm_model = fit_lstm(X_train_scaled, y_train_scaled, batch_size, nb_epoch, neurons)"
      ],
      "execution_count": 0,
      "outputs": []
    },
    {
      "cell_type": "code",
      "metadata": {
        "id": "kAUaOqJFxuz-",
        "colab_type": "code",
        "colab": {}
      },
      "source": [
        "# forecast the entire training dataset to build up state for forecasting\n",
        "X_train_scaled = X_train_scaled.reshape(len(X_train_scaled), 1, 1)\n",
        "pred = lstm_model.predict(X_train_scaled, batch_size=1)"
      ],
      "execution_count": 0,
      "outputs": []
    },
    {
      "cell_type": "code",
      "metadata": {
        "id": "6PzUY7_6xuyB",
        "colab_type": "code",
        "colab": {}
      },
      "source": [
        "# walk-forward validation on the test data\n",
        "predictions = list()\n",
        "for i in range(len(X_test_scaled)):\n",
        "\t# make one-step forecast\n",
        "\tX = X_test_scaled[i]\n",
        "\tyhat = forecast_lstm(lstm_model, 1, X)\n",
        "\t# invert scaling\n",
        "\tyhat = scale_invert_mod(scaler, yhat.reshape(-1,1))\n",
        "\t# invert differencing\n",
        "\tyhat = inverse_difference(raw_values, yhat, len(X_test_scaled)+1-i)\n",
        "\t# store forecast\n",
        "\tpredictions.append(yhat[0,0])\n",
        "\texpected = raw_values[len(X_train_scaled) + i + 1]\n",
        "\tprint('instance=%d, Predicted=%f, Expected=%f' % (i+1, yhat, expected))"
      ],
      "execution_count": 0,
      "outputs": []
    },
    {
      "cell_type": "code",
      "metadata": {
        "id": "ohSZOK3205Q7",
        "colab_type": "code",
        "colab": {}
      },
      "source": [
        "# # report performance\n",
        "# rmse = sqrt(mean_squared_error(list(raw_values[-594:]), predictions))\n",
        "# print('Test RMSE: %.3f' % rmse)"
      ],
      "execution_count": 0,
      "outputs": []
    },
    {
      "cell_type": "code",
      "metadata": {
        "id": "sBJPR89X05Om",
        "colab_type": "code",
        "colab": {}
      },
      "source": [
        "# line plot of observed vs predicted\n",
        "plt.plot(raw_values[-len(X_test_scaled):])\n",
        "plt.plot(predictions)\n",
        "plt.show()"
      ],
      "execution_count": 0,
      "outputs": []
    },
    {
      "cell_type": "code",
      "metadata": {
        "id": "0SJyLiwF05Mf",
        "colab_type": "code",
        "colab": {}
      },
      "source": [
        ""
      ],
      "execution_count": 0,
      "outputs": []
    },
    {
      "cell_type": "code",
      "metadata": {
        "id": "gkCIouIc05LF",
        "colab_type": "code",
        "colab": {}
      },
      "source": [
        ""
      ],
      "execution_count": 0,
      "outputs": []
    },
    {
      "cell_type": "code",
      "metadata": {
        "id": "QwjSkgzj05Ii",
        "colab_type": "code",
        "colab": {}
      },
      "source": [
        ""
      ],
      "execution_count": 0,
      "outputs": []
    },
    {
      "cell_type": "code",
      "metadata": {
        "id": "Rz3QE2XO05F3",
        "colab_type": "code",
        "colab": {}
      },
      "source": [
        ""
      ],
      "execution_count": 0,
      "outputs": []
    },
    {
      "cell_type": "code",
      "metadata": {
        "id": "8w5qutAmEDZC",
        "colab_type": "code",
        "colab": {}
      },
      "source": [
        "# # walk-forward validation on 1st instance of test data\n",
        "# i = 0\n",
        "# split_point = len(X_test)\n",
        "# forecasted = [raw_values[-split_point -1]]\n",
        "\n",
        "# # make one-step forecast\n",
        "# X = X_test_scaled[i]\n",
        "# yhat = forecast_lstm(lstm_model, 1, X)\n",
        "\n",
        "# # invert scaling\n",
        "# yhat = scale_invert_mod(scaler, yhat.reshape(-1,1))\n",
        "\n",
        "# # invert differencing\n",
        "# yhat = forecasted[-1] + yhat\n",
        "\n",
        "# # store forecast\n",
        "# expected = raw_values[len(X_train) + i + 1]\n",
        "# forecasted.append(yhat[0,0])\n",
        "# print('instance=%d, Predicted=%f, Expected=%f' % (i, yhat, expected))"
      ],
      "execution_count": 0,
      "outputs": []
    },
    {
      "cell_type": "code",
      "metadata": {
        "id": "WTi3P3-F9EBh",
        "colab_type": "code",
        "outputId": "9a04bf66-eff6-4034-a4f9-bb24f282bd36",
        "colab": {
          "base_uri": "https://localhost:8080/",
          "height": 34
        }
      },
      "source": [
        "# forecasted"
      ],
      "execution_count": 0,
      "outputs": [
        {
          "output_type": "execute_result",
          "data": {
            "text/plain": [
              "[90.3252, 89.41914]"
            ]
          },
          "metadata": {
            "tags": []
          },
          "execution_count": 53
        }
      ]
    },
    {
      "cell_type": "code",
      "metadata": {
        "id": "X6cslCJ78yWc",
        "colab_type": "code",
        "colab": {}
      },
      "source": [
        "# # walk-forward validation on forecasted instance\n",
        "# expected_x = []\n",
        "# for i in range(10):\n",
        "#     # We will read the last element of forecasted list and\n",
        "#     # prepare it to make further forcast\n",
        "\n",
        "#     # make stationary(difference)\n",
        "#     X = np.array(forecasted[-1] - forecasted[-2])\n",
        "#     X = X.reshape(-1,1)\n",
        "\n",
        "#     # do scaling\n",
        "#     X = scale_mod(scaler, X)\n",
        "\n",
        "#     # make forecast\n",
        "#     yhat = forecast_lstm(lstm_model, 1, X)\n",
        "\n",
        "#     # invert scaling\n",
        "#     yhat = scale_invert_mod(scaler, yhat.reshape(-1,1))\n",
        "\n",
        "#     # invert differencing\n",
        "#     yhat = forecasted[-1] + yhat\n",
        "\n",
        "#     # store forecast\n",
        "#     expected = raw_values[len(X_train) + i + 1]\n",
        "#     forecasted.append(yhat[0,0])\n",
        "#     expected_x.append(expected)\n",
        "#     print('instance=%d, Predicted=%f, Expected=%f' % (i, yhat, expected))"
      ],
      "execution_count": 0,
      "outputs": []
    },
    {
      "cell_type": "code",
      "metadata": {
        "id": "j_HUUPE6ZLWr",
        "colab_type": "code",
        "colab": {}
      },
      "source": [
        "# walk-forward validation on 1st instance of test data\n",
        "i = 0\n",
        "split_point = len(X_test)\n",
        "forecasted = [raw_values[-split_point -1]]\n",
        "\n",
        "# make one-step forecast\n",
        "X = X_test_scaled[i]\n",
        "yhat = forecast_lstm(lstm_model, 1, X)\n",
        "\n",
        "# invert scaling\n",
        "yhat = scale_invert_mod(scaler, yhat.reshape(-1,1))\n",
        "\n",
        "# invert differencing\n",
        "yhat = forecasted[-1] + yhat\n",
        "\n",
        "# store forecast\n",
        "expected = raw_values[len(X_train) + i + 1]\n",
        "forecasted.append(yhat[0,0])\n",
        "# print('instance=%d, Predicted=%f, Expected=%f' % (i, yhat, expected))\n",
        "\n",
        "\n",
        "\n",
        "# walk-forward validation on forecasted instance and test instance\n",
        "expected_x = []\n",
        "predictions = []\n",
        "\n",
        "for i in range(100):\n",
        "    # We will read the last element of forecasted list and\n",
        "    # prepare it to make further forcast\n",
        "\n",
        "    # make stationary(difference)\n",
        "    X = np.array(forecasted[-1] - forecasted[-2])\n",
        "    X = X.reshape(-1,1)\n",
        "\n",
        "    # do scaling\n",
        "    X = scale_mod(scaler, X)\n",
        "\n",
        "    # make forecast with last forecast\n",
        "    yhat = forecast_lstm(lstm_model, 1, X)\n",
        "\n",
        "    # invert scaling\n",
        "    yhat = scale_invert_mod(scaler, yhat.reshape(-1,1))\n",
        "\n",
        "    # invert differencing\n",
        "    yhat = forecasted[-1] + yhat\n",
        "\n",
        "    # store forecast\n",
        "    expected = raw_values[len(X_train) + i + 1]\n",
        "    forecasted.append(yhat[0,0])\n",
        "    expected_x.append(expected)\n",
        "    \n",
        "    # Make forecast with test set\n",
        "    X = X_test_scaled[i]\n",
        "    yhat = forecast_lstm(lstm_model, 1, X)\n",
        "    \n",
        "    # invert scaling\n",
        "    yhat = scale_invert_mod(scaler, yhat.reshape(-1,1))\n",
        "    \n",
        "    # invert differencing\n",
        "    yhat = inverse_difference(raw_values, yhat, len(X_test_scaled)+1-i)\n",
        "    \n",
        "    # store forecast\n",
        "    predictions.append(yhat[0,0])\n",
        "    expected = raw_values[len(X_train_scaled) + i + 1]\n",
        "    print('instance=%d, Predicted=%f, Expected=%f Forecasted=%f' % (i+1, yhat, expected, forecasted[-1]))"
      ],
      "execution_count": 0,
      "outputs": []
    },
    {
      "cell_type": "code",
      "metadata": {
        "id": "h1MUMifnDuPO",
        "colab_type": "code",
        "outputId": "dee3fcee-f219-4e56-c4f9-72bb937e8577",
        "colab": {
          "base_uri": "https://localhost:8080/",
          "height": 374
        }
      },
      "source": [
        "# line plot of observed vs predicted\n",
        "plt.plot(expected_x, label=\"expected\")\n",
        "plt.plot(predictions, label=\"predicted\")\n",
        "plt.plot(forecasted[2:], label=\"forecasted\")\n",
        "plt.legend()\n",
        "plt.show()"
      ],
      "execution_count": 0,
      "outputs": [
        {
          "output_type": "display_data",
          "data": {
            "image/png": "[encoded data removed]",
            "text/plain": [
              "<Figure size 1080x432 with 1 Axes>"
            ]
          },
          "metadata": {
            "tags": []
          }
        }
      ]
    }
  ]
}